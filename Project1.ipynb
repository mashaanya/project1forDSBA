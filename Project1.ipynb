{
 "cells": [
  {
   "cell_type": "code",
   "execution_count": null,
   "metadata": {},
   "outputs": [],
   "source": [
    "!pip install ipympl"
   ]
  },
  {
   "cell_type": "code",
   "execution_count": 136,
   "metadata": {},
   "outputs": [],
   "source": [
    "import matplotlib.pyplot as plt\n",
    "from matplotlib import rcParams\n",
    "rcParams['figure.figsize'] = 10, 5\n",
    "import pandas as pd"
   ]
  },
  {
   "cell_type": "code",
   "execution_count": 137,
   "metadata": {},
   "outputs": [
    {
     "data": {
      "text/html": [
       "<div>\n",
       "<style scoped>\n",
       "    .dataframe tbody tr th:only-of-type {\n",
       "        vertical-align: middle;\n",
       "    }\n",
       "\n",
       "    .dataframe tbody tr th {\n",
       "        vertical-align: top;\n",
       "    }\n",
       "\n",
       "    .dataframe thead th {\n",
       "        text-align: right;\n",
       "    }\n",
       "</style>\n",
       "<table border=\"1\" class=\"dataframe\">\n",
       "  <thead>\n",
       "    <tr style=\"text-align: right;\">\n",
       "      <th></th>\n",
       "      <th>Unnamed: 0</th>\n",
       "      <th>Clothing ID</th>\n",
       "      <th>Age</th>\n",
       "      <th>Title</th>\n",
       "      <th>Review Text</th>\n",
       "      <th>Rating</th>\n",
       "      <th>Recommended IND</th>\n",
       "      <th>Positive Feedback Count</th>\n",
       "      <th>Division Name</th>\n",
       "      <th>Department Name</th>\n",
       "      <th>Class Name</th>\n",
       "    </tr>\n",
       "  </thead>\n",
       "  <tbody>\n",
       "    <tr>\n",
       "      <th>0</th>\n",
       "      <td>0</td>\n",
       "      <td>767</td>\n",
       "      <td>33</td>\n",
       "      <td>NaN</td>\n",
       "      <td>Absolutely wonderful - silky and sexy and comf...</td>\n",
       "      <td>4</td>\n",
       "      <td>1</td>\n",
       "      <td>0</td>\n",
       "      <td>Initmates</td>\n",
       "      <td>Intimate</td>\n",
       "      <td>Intimates</td>\n",
       "    </tr>\n",
       "    <tr>\n",
       "      <th>1</th>\n",
       "      <td>1</td>\n",
       "      <td>1080</td>\n",
       "      <td>34</td>\n",
       "      <td>NaN</td>\n",
       "      <td>Love this dress!  it's sooo pretty.  i happene...</td>\n",
       "      <td>5</td>\n",
       "      <td>1</td>\n",
       "      <td>4</td>\n",
       "      <td>General</td>\n",
       "      <td>Dresses</td>\n",
       "      <td>Dresses</td>\n",
       "    </tr>\n",
       "    <tr>\n",
       "      <th>2</th>\n",
       "      <td>2</td>\n",
       "      <td>1077</td>\n",
       "      <td>60</td>\n",
       "      <td>Some major design flaws</td>\n",
       "      <td>I had such high hopes for this dress and reall...</td>\n",
       "      <td>3</td>\n",
       "      <td>0</td>\n",
       "      <td>0</td>\n",
       "      <td>General</td>\n",
       "      <td>Dresses</td>\n",
       "      <td>Dresses</td>\n",
       "    </tr>\n",
       "    <tr>\n",
       "      <th>3</th>\n",
       "      <td>3</td>\n",
       "      <td>1049</td>\n",
       "      <td>50</td>\n",
       "      <td>My favorite buy!</td>\n",
       "      <td>I love, love, love this jumpsuit. it's fun, fl...</td>\n",
       "      <td>5</td>\n",
       "      <td>1</td>\n",
       "      <td>0</td>\n",
       "      <td>General Petite</td>\n",
       "      <td>Bottoms</td>\n",
       "      <td>Pants</td>\n",
       "    </tr>\n",
       "    <tr>\n",
       "      <th>4</th>\n",
       "      <td>4</td>\n",
       "      <td>847</td>\n",
       "      <td>47</td>\n",
       "      <td>Flattering shirt</td>\n",
       "      <td>This shirt is very flattering to all due to th...</td>\n",
       "      <td>5</td>\n",
       "      <td>1</td>\n",
       "      <td>6</td>\n",
       "      <td>General</td>\n",
       "      <td>Tops</td>\n",
       "      <td>Blouses</td>\n",
       "    </tr>\n",
       "  </tbody>\n",
       "</table>\n",
       "</div>"
      ],
      "text/plain": [
       "   Unnamed: 0  Clothing ID  Age                    Title  \\\n",
       "0           0          767   33                      NaN   \n",
       "1           1         1080   34                      NaN   \n",
       "2           2         1077   60  Some major design flaws   \n",
       "3           3         1049   50         My favorite buy!   \n",
       "4           4          847   47         Flattering shirt   \n",
       "\n",
       "                                         Review Text  Rating  Recommended IND  \\\n",
       "0  Absolutely wonderful - silky and sexy and comf...       4                1   \n",
       "1  Love this dress!  it's sooo pretty.  i happene...       5                1   \n",
       "2  I had such high hopes for this dress and reall...       3                0   \n",
       "3  I love, love, love this jumpsuit. it's fun, fl...       5                1   \n",
       "4  This shirt is very flattering to all due to th...       5                1   \n",
       "\n",
       "   Positive Feedback Count   Division Name Department Name Class Name  \n",
       "0                        0       Initmates        Intimate  Intimates  \n",
       "1                        4         General         Dresses    Dresses  \n",
       "2                        0         General         Dresses    Dresses  \n",
       "3                        0  General Petite         Bottoms      Pants  \n",
       "4                        6         General            Tops    Blouses  "
      ]
     },
     "execution_count": 137,
     "metadata": {},
     "output_type": "execute_result"
    }
   ],
   "source": [
    "data = pd.read_csv('Womens Clothing E-Commerce Reviews.csv')\n",
    "data.head()"
   ]
  },
  {
   "cell_type": "code",
   "execution_count": 138,
   "metadata": {},
   "outputs": [
    {
     "name": "stdout",
     "output_type": "stream",
     "text": [
      "Age mean: 43.198543813335604 median: 41.0 standard deviation: 12.27954361559137\n"
     ]
    }
   ],
   "source": [
    "print('Age','mean:',data['Age'].mean(),'median:',data['Age'].median(),'standard deviation:',data['Age'].std())"
   ]
  },
  {
   "cell_type": "code",
   "execution_count": 139,
   "metadata": {},
   "outputs": [
    {
     "name": "stdout",
     "output_type": "stream",
     "text": [
      "Rating mean: 4.196031678446734 median: 5.0 standard deviation: 1.1100307198242543\n"
     ]
    }
   ],
   "source": [
    "print('Rating','mean:',data['Rating'].mean(),'median:',data['Rating'].median(),'standard deviation:',data['Rating'].std())"
   ]
  },
  {
   "cell_type": "code",
   "execution_count": 140,
   "metadata": {},
   "outputs": [
    {
     "name": "stdout",
     "output_type": "stream",
     "text": [
      "Positive Feedback Count  mean: 2.535936302478072 median: 1.0 standard deviation: 5.7022015020345735\n"
     ]
    }
   ],
   "source": [
    "print('Positive Feedback Count ','mean:',data['Positive Feedback Count'].mean(),'median:',data['Positive Feedback Count'].median(),'standard deviation:',data['Positive Feedback Count'].std())"
   ]
  },
  {
   "cell_type": "code",
   "execution_count": 141,
   "metadata": {},
   "outputs": [
    {
     "data": {
      "text/plain": [
       "<matplotlib.legend.Legend at 0x7fd22b23f700>"
      ]
     },
     "execution_count": 141,
     "metadata": {},
     "output_type": "execute_result"
    },
    {
     "data": {
      "image/png": "[encoded data removed]",
      "text/plain": [
       "<Figure size 720x360 with 1 Axes>"
      ]
     },
     "metadata": {
      "needs_background": "light"
     },
     "output_type": "display_data"
    }
   ],
   "source": [
    "plt.hist(data.Age.dropna(),label='AGE')\n",
    "plt.xlabel('age')\n",
    "plt.ylabel('number of women')\n",
    "plt.legend()"
   ]
  },
  {
   "cell_type": "code",
   "execution_count": 142,
   "metadata": {},
   "outputs": [
    {
     "data": {
      "text/plain": [
       "<matplotlib.legend.Legend at 0x7fd22b3493d0>"
      ]
     },
     "execution_count": 142,
     "metadata": {},
     "output_type": "execute_result"
    },
    {
     "data": {
      "image/png": "[encoded data removed]",
      "text/plain": [
       "<Figure size 720x360 with 1 Axes>"
      ]
     },
     "metadata": {
      "needs_background": "light"
     },
     "output_type": "display_data"
    }
   ],
   "source": [
    "plt.hist(data.Rating.dropna(),label='RATING')\n",
    "plt.xlabel('rating')\n",
    "plt.ylabel('number of products')\n",
    "plt.legend()"
   ]
  },
  {
   "cell_type": "code",
   "execution_count": 143,
   "metadata": {},
   "outputs": [
    {
     "data": {
      "text/plain": [
       "<matplotlib.legend.Legend at 0x7fd230319df0>"
      ]
     },
     "execution_count": 143,
     "metadata": {},
     "output_type": "execute_result"
    },
    {
     "data": {
      "image/png": "[encoded data removed]",
      "text/plain": [
       "<Figure size 720x360 with 1 Axes>"
      ]
     },
     "metadata": {
      "needs_background": "light"
     },
     "output_type": "display_data"
    }
   ],
   "source": [
    "plt.plot(data['Positive Feedback Count'],'r+', label='number of positive feedbacks')\n",
    "plt.xlabel('number of a product')\n",
    "plt.ylabel('how many positive feedbacks')\n",
    "plt.legend()"
   ]
  },
  {
   "cell_type": "code",
   "execution_count": 144,
   "metadata": {},
   "outputs": [
    {
     "data": {
      "text/plain": [
       "<seaborn.axisgrid.PairGrid at 0x7fd22b673b80>"
      ]
     },
     "execution_count": 144,
     "metadata": {},
     "output_type": "execute_result"
    },
    {
     "data": {
      "image/png": "[encoded data removed]",
      "text/plain": [
       "<Figure size 360x360 with 6 Axes>"
      ]
     },
     "metadata": {
      "needs_background": "light"
     },
     "output_type": "display_data"
    }
   ],
   "source": [
    "import seaborn as sns\n",
    "sns.pairplot(data[['Age','Rating']])"
   ]
  },
  {
   "cell_type": "code",
   "execution_count": 145,
   "metadata": {},
   "outputs": [
    {
     "data": {
      "text/plain": [
       "<matplotlib.legend.Legend at 0x7fd22c9e9d00>"
      ]
     },
     "execution_count": 145,
     "metadata": {},
     "output_type": "execute_result"
    },
    {
     "data": {
      "image/png": "[encoded data removed]",
      "text/plain": [
       "<Figure size 720x1440 with 1 Axes>"
      ]
     },
     "metadata": {
      "needs_background": "light"
     },
     "output_type": "display_data"
    }
   ],
   "source": [
    "rcParams['figure.figsize'] = 10, 20\n",
    "result = {}\n",
    "for (rt), sub_df in data.groupby(['Rating']):\n",
    "    result[f\"{rt}\"] = sub_df['Age'].mean()\n",
    "\n",
    "plt.bar(result.keys(), result.values(), label='dependence: age, rating')\n",
    "plt.xlabel('rating')\n",
    "plt.ylabel('age')\n",
    "plt.legend()"
   ]
  },
  {
   "cell_type": "code",
   "execution_count": 146,
   "metadata": {
    "scrolled": false
   },
   "outputs": [
    {
     "data": {
      "text/html": [
       "<div>\n",
       "<style scoped>\n",
       "    .dataframe tbody tr th:only-of-type {\n",
       "        vertical-align: middle;\n",
       "    }\n",
       "\n",
       "    .dataframe tbody tr th {\n",
       "        vertical-align: top;\n",
       "    }\n",
       "\n",
       "    .dataframe thead th {\n",
       "        text-align: right;\n",
       "    }\n",
       "</style>\n",
       "<table border=\"1\" class=\"dataframe\">\n",
       "  <thead>\n",
       "    <tr style=\"text-align: right;\">\n",
       "      <th>Recommended IND</th>\n",
       "      <th>0</th>\n",
       "      <th>1</th>\n",
       "    </tr>\n",
       "    <tr>\n",
       "      <th>Class Name</th>\n",
       "      <th></th>\n",
       "      <th></th>\n",
       "    </tr>\n",
       "  </thead>\n",
       "  <tbody>\n",
       "    <tr>\n",
       "      <th>Blouses</th>\n",
       "      <td>43.219388</td>\n",
       "      <td>44.494619</td>\n",
       "    </tr>\n",
       "    <tr>\n",
       "      <th>Casual bottoms</th>\n",
       "      <td>NaN</td>\n",
       "      <td>26.500000</td>\n",
       "    </tr>\n",
       "    <tr>\n",
       "      <th>Chemises</th>\n",
       "      <td>NaN</td>\n",
       "      <td>38.000000</td>\n",
       "    </tr>\n",
       "    <tr>\n",
       "      <th>Dresses</th>\n",
       "      <td>41.830858</td>\n",
       "      <td>42.182299</td>\n",
       "    </tr>\n",
       "    <tr>\n",
       "      <th>Fine gauge</th>\n",
       "      <td>43.195531</td>\n",
       "      <td>45.029316</td>\n",
       "    </tr>\n",
       "    <tr>\n",
       "      <th>Intimates</th>\n",
       "      <td>37.590909</td>\n",
       "      <td>39.416667</td>\n",
       "    </tr>\n",
       "    <tr>\n",
       "      <th>Jackets</th>\n",
       "      <td>43.752294</td>\n",
       "      <td>43.825210</td>\n",
       "    </tr>\n",
       "    <tr>\n",
       "      <th>Jeans</th>\n",
       "      <td>41.647059</td>\n",
       "      <td>43.313551</td>\n",
       "    </tr>\n",
       "    <tr>\n",
       "      <th>Knits</th>\n",
       "      <td>42.694224</td>\n",
       "      <td>43.839646</td>\n",
       "    </tr>\n",
       "    <tr>\n",
       "      <th>Layering</th>\n",
       "      <td>42.882353</td>\n",
       "      <td>41.348837</td>\n",
       "    </tr>\n",
       "    <tr>\n",
       "      <th>Legwear</th>\n",
       "      <td>41.478261</td>\n",
       "      <td>41.556338</td>\n",
       "    </tr>\n",
       "    <tr>\n",
       "      <th>Lounge</th>\n",
       "      <td>41.340206</td>\n",
       "      <td>42.942761</td>\n",
       "    </tr>\n",
       "    <tr>\n",
       "      <th>Outerwear</th>\n",
       "      <td>42.916667</td>\n",
       "      <td>44.593284</td>\n",
       "    </tr>\n",
       "    <tr>\n",
       "      <th>Pants</th>\n",
       "      <td>42.862069</td>\n",
       "      <td>44.285467</td>\n",
       "    </tr>\n",
       "    <tr>\n",
       "      <th>Shorts</th>\n",
       "      <td>38.196078</td>\n",
       "      <td>41.214286</td>\n",
       "    </tr>\n",
       "    <tr>\n",
       "      <th>Skirts</th>\n",
       "      <td>41.321918</td>\n",
       "      <td>42.705882</td>\n",
       "    </tr>\n",
       "    <tr>\n",
       "      <th>Sleep</th>\n",
       "      <td>43.181818</td>\n",
       "      <td>43.087179</td>\n",
       "    </tr>\n",
       "    <tr>\n",
       "      <th>Sweaters</th>\n",
       "      <td>43.501754</td>\n",
       "      <td>45.454068</td>\n",
       "    </tr>\n",
       "    <tr>\n",
       "      <th>Swim</th>\n",
       "      <td>38.852941</td>\n",
       "      <td>37.854610</td>\n",
       "    </tr>\n",
       "    <tr>\n",
       "      <th>Trend</th>\n",
       "      <td>44.774194</td>\n",
       "      <td>43.806818</td>\n",
       "    </tr>\n",
       "  </tbody>\n",
       "</table>\n",
       "</div>"
      ],
      "text/plain": [
       "Recommended IND          0          1\n",
       "Class Name                           \n",
       "Blouses          43.219388  44.494619\n",
       "Casual bottoms         NaN  26.500000\n",
       "Chemises               NaN  38.000000\n",
       "Dresses          41.830858  42.182299\n",
       "Fine gauge       43.195531  45.029316\n",
       "Intimates        37.590909  39.416667\n",
       "Jackets          43.752294  43.825210\n",
       "Jeans            41.647059  43.313551\n",
       "Knits            42.694224  43.839646\n",
       "Layering         42.882353  41.348837\n",
       "Legwear          41.478261  41.556338\n",
       "Lounge           41.340206  42.942761\n",
       "Outerwear        42.916667  44.593284\n",
       "Pants            42.862069  44.285467\n",
       "Shorts           38.196078  41.214286\n",
       "Skirts           41.321918  42.705882\n",
       "Sleep            43.181818  43.087179\n",
       "Sweaters         43.501754  45.454068\n",
       "Swim             38.852941  37.854610\n",
       "Trend            44.774194  43.806818"
      ]
     },
     "execution_count": 146,
     "metadata": {},
     "output_type": "execute_result"
    }
   ],
   "source": [
    "import numpy as np\n",
    "pd.crosstab (data['Class Name'],data['Recommended IND'], values=data['Age'], aggfunc=np.mean)"
   ]
  },
  {
   "cell_type": "code",
   "execution_count": 147,
   "metadata": {},
   "outputs": [
    {
     "data": {
      "text/plain": [
       "'\\nDiscription:\\nI have analysed the dataset revolving around the reviews written by customers.\\nSo, from the first part of analysis we can see that the average age of women who post their reviews is about 43y.o., then we can see the median and the standard deviation, also I get that in general rating of a clothes is about 4, but the median value is 5 and standard deviation is about 1, then we can look at a number of positive feedback and see that the mean value is about 2.5, and other parameters have also small values.\\nAs we can see on the plot about age: there is standard distribution: homes of the middle age are the most frequent users and feedbackers, women under ~16 do not write their reviews at all and as higher the age (after 40) as less reviews people write.\\nIn the rating plot we see that clothes likely to have 5 rating, less frequently 4,3 and rating 2,1 have just a little amount of clothes.\\nRegarding positive feedback, we can see that there aren’t many feedbacks to one specific thing at all, in general there are under 20 feedbacks per one thing, but we can see some staff with even 120 positive feedbacks.\\nAfter this I do some comparisons. Firstly, between age and rating, from the histogram we see that rating 3 is given by more young women, and extreme values(as 1 and 5) are given by older women. We can conclude that women under 30 are more hypercritical. Secondly, I get the table, which contains the information about type of the product, average age and if this product is recommended or not (by the vast majority of women). From here we see that that in general the age of women who do not recommend the thing is less then the age who do recommend. (Also there is some interesting statistics that, for example, swim wear is likely bought by younger women, and fine gouge is likely bought by older ladies.\\n\\n'"
      ]
     },
     "execution_count": 147,
     "metadata": {},
     "output_type": "execute_result"
    }
   ],
   "source": [
    "'''\n",
    "Discription:\n",
    "I have analysed the dataset revolving around the reviews written by customers.\n",
    "So, from the first part of analysis we can see that the average age of women who post their reviews is about 43y.o., then we can see the median and the standard deviation, also I get that in general rating of a clothes is about 4, but the median value is 5 and standard deviation is about 1, then we can look at a number of positive feedback and see that the mean value is about 2.5, and other parameters have also small values.\n",
    "As we can see on the plot about age: there is standard distribution: homes of the middle age are the most frequent users and feedbackers, women under ~16 do not write their reviews at all and as higher the age (after 40) as less reviews people write.\n",
    "In the rating plot we see that clothes likely to have 5 rating, less frequently 4,3 and rating 2,1 have just a little amount of clothes.\n",
    "Regarding positive feedback, we can see that there aren’t many feedbacks to one specific thing at all, in general there are under 20 feedbacks per one thing, but we can see some staff with even 120 positive feedbacks.\n",
    "After this I do some comparisons. Firstly, between age and rating, from the histogram we see that rating 3 is given by more young women, and extreme values(as 1 and 5) are given by older women. We can conclude that women under 30 are more hypercritical. Secondly, I get the table, which contains the information about type of the product, average age and if this product is recommended or not (by the vast majority of women). From here we see that that in general the age of women who do not recommend the thing is less then the age who do recommend. (Also there is some interesting statistics that, for example, swim wear is likely bought by younger women, and fine gouge is likely bought by older ladies.\n",
    "\n",
    "'''"
   ]
  }
 ],
 "metadata": {
  "kernelspec": {
   "display_name": "Python 3",
   "language": "python",
   "name": "python3"
  },
  "language_info": {
   "codemirror_mode": {
    "name": "ipython",
    "version": 3
   },
   "file_extension": ".py",
   "mimetype": "text/x-python",
   "name": "python",
   "nbconvert_exporter": "python",
   "pygments_lexer": "ipython3",
   "version": "3.8.3"
  }
 },
 "nbformat": 4,
 "nbformat_minor": 4
}
